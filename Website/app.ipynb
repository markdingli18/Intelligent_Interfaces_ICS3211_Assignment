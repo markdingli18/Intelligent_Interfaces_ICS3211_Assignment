{
 "cells": [
  {
   "cell_type": "code",
   "execution_count": 8,
   "metadata": {},
   "outputs": [],
   "source": [
    "# pip show flask"
   ]
  },
  {
   "cell_type": "code",
   "execution_count": 16,
   "metadata": {},
   "outputs": [
    {
     "name": "stdout",
     "output_type": "stream",
     "text": [
      " * Serving Flask app '__main__'\n",
      " * Debug mode: off\n"
     ]
    },
    {
     "name": "stderr",
     "output_type": "stream",
     "text": [
      "WARNING: This is a development server. Do not use it in a production deployment. Use a production WSGI server instead.\n",
      " * Running on http://127.0.0.1:5000\n",
      "Press CTRL+C to quit\n",
      "127.0.0.1 - - [14/Dec/2023 18:18:24] \"GET / HTTP/1.1\" 200 -\n",
      "127.0.0.1 - - [14/Dec/2023 18:18:24] \"GET /static/style/style.css HTTP/1.1\" 304 -\n",
      "127.0.0.1 - - [14/Dec/2023 18:18:24] \"GET /static/img/logo.png HTTP/1.1\" 304 -\n",
      "127.0.0.1 - - [14/Dec/2023 18:18:24] \"GET /static/img/other/uom.png HTTP/1.1\" 304 -\n",
      "127.0.0.1 - - [14/Dec/2023 18:18:24] \"GET /static/img/background3.jpg HTTP/1.1\" 304 -\n",
      "127.0.0.1 - - [14/Dec/2023 18:18:24] \"GET /static/img/background4.jpg HTTP/1.1\" 304 -\n",
      "127.0.0.1 - - [14/Dec/2023 18:18:26] \"GET /faq HTTP/1.1\" 200 -\n",
      "127.0.0.1 - - [14/Dec/2023 18:18:26] \"GET /static/style/style.css HTTP/1.1\" 304 -\n",
      "127.0.0.1 - - [14/Dec/2023 18:18:26] \"GET /static/style/faq.css HTTP/1.1\" 304 -\n",
      "127.0.0.1 - - [14/Dec/2023 18:18:26] \"GET /static/img/logo.png HTTP/1.1\" 304 -\n",
      "127.0.0.1 - - [14/Dec/2023 18:18:26] \"GET /static/img/robot_normal.png HTTP/1.1\" 304 -\n",
      "127.0.0.1 - - [14/Dec/2023 18:18:26] \"GET /static/img/robot_thinking.png HTTP/1.1\" 304 -\n",
      "127.0.0.1 - - [14/Dec/2023 18:18:26] \"GET /static/img/background7.jpg HTTP/1.1\" 304 -\n",
      "127.0.0.1 - - [14/Dec/2023 18:18:26] \"GET /static/img/other/uom.png HTTP/1.1\" 304 -\n",
      "127.0.0.1 - - [14/Dec/2023 18:18:26] \"GET /static/js/fagAgeLogic.js HTTP/1.1\" 304 -\n",
      "127.0.0.1 - - [14/Dec/2023 18:18:26] \"GET /static/js/faqRobotLogic.js HTTP/1.1\" 200 -\n",
      "127.0.0.1 - - [14/Dec/2023 18:18:28] \"GET /img/robot_thinking.png HTTP/1.1\" 404 -\n",
      "127.0.0.1 - - [14/Dec/2023 18:18:30] \"GET /img/robot_normal.png HTTP/1.1\" 404 -\n",
      "127.0.0.1 - - [14/Dec/2023 18:18:30] \"GET /img/CloseIcon.png HTTP/1.1\" 404 -\n"
     ]
    }
   ],
   "source": [
    "from flask import Flask, render_template, request, jsonify \n",
    "# import openai \n",
    "\n",
    "app = Flask(__name__) \n",
    "\n",
    "@app.route(\"/\")\n",
    "def index():\n",
    "    return render_template(\"index.html\")\n",
    "\n",
    "@app.route(\"/faq\")\n",
    "def faq():\n",
    "    return render_template(\"faq.html\")\n",
    "\n",
    "@app.route(\"/about\")\n",
    "def about():\n",
    "    return render_template(\"about.html\")\n",
    "\n",
    "@app.route(\"/simple_ui\")\n",
    "def simple_ui():\n",
    "    return render_template(\"simple_ui.html\")\n",
    "\n",
    "if __name__ == \"__main__\": \n",
    "    app.run() "
   ]
  }
 ],
 "metadata": {
  "kernelspec": {
   "display_name": "base",
   "language": "python",
   "name": "python3"
  },
  "language_info": {
   "codemirror_mode": {
    "name": "ipython",
    "version": 3
   },
   "file_extension": ".py",
   "mimetype": "text/x-python",
   "name": "python",
   "nbconvert_exporter": "python",
   "pygments_lexer": "ipython3",
   "version": "3.9.13"
  }
 },
 "nbformat": 4,
 "nbformat_minor": 2
}
